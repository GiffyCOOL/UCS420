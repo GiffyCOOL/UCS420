{
 "cells": [
  {
   "cell_type": "code",
   "execution_count": 2,
   "id": "635bc0b8-b26f-459e-afd6-0a0d49de0603",
   "metadata": {},
   "outputs": [
    {
     "name": "stdout",
     "output_type": "stream",
     "text": [
      "Original Array: [1 2 3 4 5]\n",
      "Addition of 2: [3 4 5 6 7]\n",
      "Multiplication by 3: [ 3  6  9 12 15]\n",
      "Division by 2: [0.5 1.  1.5 2.  2.5]\n"
     ]
    }
   ],
   "source": [
    "import numpy as np\n",
    "\n",
    "# Q1: Creating a 1D NumPy array with 5 elements and performing operations\n",
    "a = np.array([1, 2, 3, 4, 5])\n",
    "print(\"Original Array:\", a)\n",
    "print(\"Addition of 2:\", a + 2)\n",
    "print(\"Multiplication by 3:\", a * 3)\n",
    "print(\"Division by 2:\", a / 2)"
   ]
  },
  {
   "cell_type": "code",
   "execution_count": 4,
   "id": "c1681ca3-99e3-4904-9b5f-b3e100d3028d",
   "metadata": {},
   "outputs": [
    {
     "name": "stdout",
     "output_type": "stream",
     "text": [
      "Reversed Array: [5 4 6 3 2 1]\n"
     ]
    }
   ],
   "source": [
    "# Q2a: Reverse the array\n",
    "arr = np.array([1, 2, 3, 6, 4, 5])\n",
    "print(\"Reversed Array:\", arr[::-1])"
   ]
  },
  {
   "cell_type": "code",
   "execution_count": 6,
   "id": "2eba37dd-0354-4944-a32f-3fe597f7a563",
   "metadata": {},
   "outputs": [
    {
     "name": "stdout",
     "output_type": "stream",
     "text": [
      "Most frequent value in x: 1, Indices: [0 5 7 8 9]\n",
      "Most frequent value in y: 1, Indices: [0 1 2]\n"
     ]
    }
   ],
   "source": [
    "# Q2b: Finding the most frequent value and its indices in arrays\n",
    "x = np.array([1,2,3,4,5,1,2,1,1,1])\n",
    "y = np.array([1,1,1,2,3,4,2,4,3,3])\n",
    "most_freq_x = np.bincount(x).argmax()\n",
    "most_freq_y = np.bincount(y).argmax()\n",
    "indices_x = np.where(x == most_freq_x)[0]\n",
    "indices_y = np.where(y == most_freq_y)[0]\n",
    "print(f\"Most frequent value in x: {most_freq_x}, Indices: {indices_x}\")\n",
    "print(f\"Most frequent value in y: {most_freq_y}, Indices: {indices_y}\")"
   ]
  },
  {
   "cell_type": "code",
   "execution_count": 8,
   "id": "f6759e43-5f37-480a-b5c1-576d63dd935e",
   "metadata": {},
   "outputs": [
    {
     "name": "stdout",
     "output_type": "stream",
     "text": [
      "1st row, 2nd column: 20\n",
      "3rd row, 1st column: 70\n"
     ]
    }
   ],
   "source": [
    "# Q3: Accessing elements in a 2D array\n",
    "arr_2d = np.array([[10, 20, 30], [40, 50, 60], [70, 80, 90]])\n",
    "print(\"1st row, 2nd column:\", arr_2d[0, 1])\n",
    "print(\"3rd row, 1st column:\", arr_2d[2, 0])"
   ]
  },
  {
   "cell_type": "code",
   "execution_count": 18,
   "id": "7cfca274-68e0-4d34-8d18-24d1bf742f21",
   "metadata": {},
   "outputs": [
    {
     "name": "stdout",
     "output_type": "stream",
     "text": [
      "Array: [ 10.    13.75  17.5   21.25  25.    28.75  32.5   36.25  40.    43.75\n",
      "  47.5   51.25  55.    58.75  62.5   66.25  70.    73.75  77.5   81.25\n",
      "  85.    88.75  92.5   96.25 100.  ]\n",
      "Dimensions: 1\n",
      "Shape: (25,)\n",
      "Total Elements: 25\n",
      "Data Type: float64\n",
      "Total Bytes: 200\n",
      "Reshaped Array: [[ 10.    13.75  17.5   21.25  25.  ]\n",
      " [ 28.75  32.5   36.25  40.    43.75]\n",
      " [ 47.5   51.25  55.    58.75  62.5 ]\n",
      " [ 66.25  70.    73.75  77.5   81.25]\n",
      " [ 85.    88.75  92.5   96.25 100.  ]]\n",
      "Transpose using T: [[ 10.    28.75  47.5   66.25  85.  ]\n",
      " [ 13.75  32.5   51.25  70.    88.75]\n",
      " [ 17.5   36.25  55.    73.75  92.5 ]\n",
      " [ 21.25  40.    58.75  77.5   96.25]\n",
      " [ 25.    43.75  62.5   81.25 100.  ]]\n",
      "Transpose using reshape: [[ 10.    28.75  47.5   66.25  85.  ]\n",
      " [ 13.75  32.5   51.25  70.    88.75]\n",
      " [ 17.5   36.25  55.    73.75  92.5 ]\n",
      " [ 21.25  40.    58.75  77.5   96.25]\n",
      " [ 25.    43.75  62.5   81.25 100.  ]]\n"
     ]
    }
   ],
   "source": [
    "# Q4: Creating an array with 25 evenly spaced numbers from 10 to 100\n",
    "Krishnarsh = np.linspace(10, 100, 25)\n",
    "print(\"Array:\", Krishnarsh)\n",
    "print(\"Dimensions:\", Krishnarsh.ndim)\n",
    "print(\"Shape:\", Krishnarsh.shape)\n",
    "print(\"Total Elements:\", Krishnarsh.size)\n",
    "print(\"Data Type:\", Krishnarsh.dtype)\n",
    "print(\"Total Bytes:\", Krishnarsh.nbytes)\n",
    "\n",
    "# Reshape and Transpose\n",
    "reshaped_array = Krishnarsh.reshape(5, 5)\n",
    "print(\"Reshaped Array:\", reshaped_array)\n",
    "print(\"Transpose using T:\", reshaped_array.T)\n",
    "print(\"Transpose using reshape:\", reshaped_array.reshape(5, 5).T)"
   ]
  },
  {
   "cell_type": "code",
   "execution_count": 28,
   "id": "0c99de03-6d00-4d6e-af5a-6f1b657781ce",
   "metadata": {},
   "outputs": [
    {
     "name": "stdout",
     "output_type": "stream",
     "text": [
      "Mean: 43.333333333333336\n",
      "Median: 37.5\n",
      "Max: 90\n",
      "Min: 10\n",
      "Unique Elements: [10 15 20 30 35 40 50 60 70 80 90]\n",
      "Reshaped to 4x3: [[10 20 30]\n",
      " [40 50 60]\n",
      " [70 80 90]\n",
      " [15 20 35]]\n",
      "Resized to 2x3: [[10 20 30]\n",
      " [40 50 60]]\n"
     ]
    }
   ],
   "source": [
    "# Q5: Creating a 2D array and computing statistics\n",
    "ucs420_Krishnarsh = np.array([[10, 20, 30, 40], [50, 60, 70, 80], [90, 15, 20, 35]])\n",
    "print(\"Mean:\", np.mean(ucs420_Krishnarsh))\n",
    "print(\"Median:\", np.median(ucs420_Krishnarsh))\n",
    "print(\"Max:\", np.max(ucs420_Krishnarsh))\n",
    "print(\"Min:\", np.min(ucs420_Krishnarsh))\n",
    "print(\"Unique Elements:\", np.unique(ucs420_Krishnarsh))\n",
    "\n",
    "# Reshaping and Resizing\n",
    "reshaped_ucs420_Krishnarsh = ucs420_Krishnarsh.reshape(4, 3)\n",
    "print(\"Reshaped to 4x3:\", reshaped_ucs420_Krishnarsh)\n",
    "resized_ucs420_Krishnarsh = np.resize(ucs420_Krishnarsh, (2, 3))\n",
    "print(\"Resized to 2x3:\", resized_ucs420_Krishnarsh)"
   ]
  }
 ],
 "metadata": {
  "kernelspec": {
   "display_name": "Python [conda env:base] *",
   "language": "python",
   "name": "conda-base-py"
  },
  "language_info": {
   "codemirror_mode": {
    "name": "ipython",
    "version": 3
   },
   "file_extension": ".py",
   "mimetype": "text/x-python",
   "name": "python",
   "nbconvert_exporter": "python",
   "pygments_lexer": "ipython3",
   "version": "3.12.7"
  }
 },
 "nbformat": 4,
 "nbformat_minor": 5
}
