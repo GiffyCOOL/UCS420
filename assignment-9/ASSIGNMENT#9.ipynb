{
 "cells": [
  {
   "cell_type": "code",
   "execution_count": 1,
   "metadata": {
    "colab": {
     "base_uri": "https://localhost:8080/"
    },
    "id": "E6arNfXz4J-l",
    "outputId": "253cda7f-8450-4f51-b21e-b9aece3a0608"
   },
   "outputs": [
    {
     "name": "stdout",
     "output_type": "stream",
     "text": [
      "\n",
      "Q1 - Word Frequency Distribution (filtered):\n",
      "love: 1\n",
      "exploring: 1\n",
      "intersection: 1\n",
      "technology: 1\n",
      "human: 1\n",
      "behavior: 1\n",
      "artificial: 1\n",
      "intelligence: 1\n",
      "transforming: 1\n",
      "industries: 1\n",
      "especially: 1\n",
      "healthcare: 1\n",
      "education: 1\n",
      "fascination: 1\n",
      "lies: 1\n",
      "machines: 1\n",
      "learn: 1\n",
      "think: 1\n",
      "make: 1\n",
      "decisions: 1\n",
      "books: 1\n",
      "podcasts: 1\n",
      "keep: 1\n",
      "updated: 1\n",
      "cuttingedge: 1\n",
      "advancements: 1\n",
      "im: 1\n",
      "particularly: 1\n",
      "intrigued: 1\n",
      "ethical: 1\n",
      "implications: 1\n",
      "autonomous: 1\n",
      "systems: 1\n"
     ]
    },
    {
     "name": "stderr",
     "output_type": "stream",
     "text": [
      "[nltk_data] Downloading package punkt to\n",
      "[nltk_data]     /home/d146ba0c-f3f9-47e6-9ba3-\n",
      "[nltk_data]     7352b825ab04/nltk_data...\n",
      "[nltk_data]   Package punkt is already up-to-date!\n",
      "[nltk_data] Downloading package stopwords to\n",
      "[nltk_data]     /home/d146ba0c-f3f9-47e6-9ba3-\n",
      "[nltk_data]     7352b825ab04/nltk_data...\n",
      "[nltk_data]   Package stopwords is already up-to-date!\n",
      "[nltk_data] Downloading package wordnet to\n",
      "[nltk_data]     /home/d146ba0c-f3f9-47e6-9ba3-\n",
      "[nltk_data]     7352b825ab04/nltk_data...\n",
      "[nltk_data]   Package wordnet is already up-to-date!\n",
      "[nltk_data] Downloading package punkt_tab to\n",
      "[nltk_data]     /home/d146ba0c-f3f9-47e6-9ba3-\n",
      "[nltk_data]     7352b825ab04/nltk_data...\n",
      "[nltk_data]   Package punkt_tab is already up-to-date!\n"
     ]
    }
   ],
   "source": [
    "# ASSIGNMENT 9 \n",
    "import nltk\n",
    "import re\n",
    "import string\n",
    "from nltk.tokenize import word_tokenize, sent_tokenize\n",
    "from nltk.corpus import stopwords\n",
    "from nltk.probability import FreqDist\n",
    "from nltk.stem import PorterStemmer, LancasterStemmer, WordNetLemmatizer\n",
    "\n",
    "nltk.download('punkt')\n",
    "nltk.download('stopwords')\n",
    "nltk.download('wordnet')\n",
    "nltk.download('punkt_tab')\n",
    "\n",
    "# Q1.\n",
    "text = \"\"\"I love exploring the intersection of technology and human behavior.\n",
    "Artificial Intelligence is transforming industries, especially healthcare and education.\n",
    "My fascination lies in how machines learn to think and make decisions.\n",
    "Books and podcasts keep me updated on cutting-edge advancements.\n",
    "I'm particularly intrigued by ethical implications of autonomous systems.\"\"\"\n",
    "\n",
    "text_lower = text.lower()\n",
    "text_clean = text_lower.translate(str.maketrans('', '', string.punctuation))\n",
    "\n",
    "word_tokens = word_tokenize(text_clean)\n",
    "sent_tokens = sent_tokenize(text_clean)\n",
    "\n",
    "stop_words = set(stopwords.words(\"english\"))\n",
    "filtered_words = [word for word in word_tokens if word not in stop_words]\n",
    "\n",
    "\n",
    "print(\"\\nQ1 - Word Frequency Distribution (filtered):\")\n",
    "fdist = FreqDist(filtered_words)\n",
    "for word, freq in fdist.most_common():\n",
    "    print(f\"{word}: {freq}\")"
   ]
  },
  {
   "cell_type": "code",
   "execution_count": null,
   "metadata": {
    "colab": {
     "base_uri": "https://localhost:8080/"
    },
    "id": "IdXN_k_S4ecp",
    "outputId": "5afe33c3-7d10-48c0-d726-6807d8d556e7"
   },
   "outputs": [
    {
     "name": "stdout",
     "output_type": "stream",
     "text": [
      "\n",
      "Q2 - Stemming Comparison:\n",
      "Word            Porter          Lancaster      \n",
      "love            love            lov            \n",
      "exploring       explor          expl           \n",
      "intersection    intersect       intersect      \n",
      "technology      technolog       technolog      \n",
      "human           human           hum            \n",
      "behavior        behavior        behavy         \n",
      "artificial      artifici        art            \n",
      "intelligence    intellig        intellig       \n",
      "transforming    transform       transform      \n",
      "industries      industri        industry       \n",
      "especially      especi          espec          \n",
      "healthcare      healthcar       healthc        \n",
      "education       educ            educ           \n",
      "fascination     fascin          fascin         \n",
      "lies            lie             lie            \n",
      "machines        machin          machin         \n",
      "learn           learn           learn          \n",
      "think           think           think          \n",
      "make            make            mak            \n",
      "decisions       decis           decid          \n",
      "books           book            book           \n",
      "podcasts        podcast         podcast        \n",
      "keep            keep            keep           \n",
      "updated         updat           upd            \n",
      "cuttingedge     cuttingedg      cuttingedg     \n",
      "advancements    advanc          adv            \n",
      "im              im              im             \n",
      "particularly    particularli    particul       \n",
      "intrigued       intrigu         intrigu        \n",
      "ethical         ethic           eth            \n",
      "implications    implic          imply          \n",
      "autonomous      autonom         autonom        \n",
      "systems         system          system         \n",
      "\n",
      "Q2 - Lemmatization:\n"
     ]
    }
   ],
   "source": [
    "# Q2.\n",
    "porter = PorterStemmer()\n",
    "lancaster = LancasterStemmer()\n",
    "lemmatizer = WordNetLemmatizer()\n",
    "\n",
    "print(\"\\nQ2 - Stemming Comparison:\")\n",
    "print(\"{:<15} {:<15} {:<15}\".format(\"Word\", \"Porter\", \"Lancaster\"))\n",
    "for word in filtered_words:\n",
    "    print(\"{:<15} {:<15} {:<15}\".format(word, porter.stem(word), lancaster.stem(word)))\n",
    "\n",
    "print(\"\\nQ2 - Lemmatization:\")\n",
    "for word in filtered_words:\n",
    "    print(f\"{word} → {lemmatizer.lemmatize(word)}\")"
   ]
  },
  {
   "cell_type": "code",
   "execution_count": null,
   "metadata": {
    "colab": {
     "base_uri": "https://localhost:8080/"
    },
    "id": "SXcLe6iA4jxx",
    "outputId": "46cbe4b2-f181-4dc9-d915-a940f75d5d66"
   },
   "outputs": [],
   "source": [
    "# Q3. \n",
    "long_words = re.findall(r'\\b\\w{6,}\\b', text)\n",
    "print(\"\\nQ3 - Words > 5 letters:\", long_words)\n",
    "\n",
    "\n",
    "numbers = re.findall(r'\\b\\d+\\b', text)\n",
    "print(\"Q3 - Numbers:\", numbers)\n",
    "\n",
    "\n",
    "capitalized = re.findall(r'\\b[A-Z][a-z]*\\b', text)\n",
    "print(\"Q3 - Capitalized Words:\", capitalized)\n",
    "\n",
    "\n",
    "alpha_words = re.findall(r'\\b[a-zA-Z]+\\b', text)\n",
    "print(\"Q3 - Alphabet-only Words:\", alpha_words)\n",
    "\n",
    "\n",
    "vowel_words = re.findall(r'\\b[aeiouAEIOU]\\w*', text)\n",
    "print(\"Q3 - Words starting with vowels:\", vowel_words)"
   ]
  },
  {
   "cell_type": "code",
   "execution_count": null,
   "metadata": {
    "colab": {
     "base_uri": "https://localhost:8080/"
    },
    "id": "kufq3RCA4ky2",
    "outputId": "83ea9fdf-60a7-4400-fab9-fb5fa769b0f2"
   },
   "outputs": [],
   "source": [
    "# Q4.\n",
    "def custom_tokenizer(text):\n",
    "    text = re.sub(r'[^\\w\\s\\-\\']', '', text)\n",
    "    return re.findall(r\"\\b(?:\\d+\\.\\d+|\\d+|\\w+(?:-\\w+)*|\\w+'\\w+)\\b\", text)\n",
    "\n",
    "custom_tokens = custom_tokenizer(text)\n",
    "print(\"\\nQ4 - Custom Tokens:\", custom_tokens)\n",
    "\n",
    "text_sub = re.sub(r'\\b[\\w\\.-]+@[\\w\\.-]+\\.\\w+\\b', '<EMAIL>', text)\n",
    "text_sub = re.sub(r'http[s]?://\\S+|www\\.\\S+', '<URL>', text_sub)\n",
    "text_sub = re.sub(r'(\\+91\\s?\\d{10}|\\d{3}[-\\s]\\d{3}[-\\s]\\d{4})', '<PHONE>', text_sub)\n",
    "print(\"Q4 - Cleaned Text with Substitutions:\")\n",
    "print(text_sub)\n"
   ]
  }
 ],
 "metadata": {
  "colab": {
   "provenance": []
  },
  "kernelspec": {
   "display_name": "anaconda-panel-2023.05-py310",
   "language": "python",
   "name": "conda-env-anaconda-panel-2023.05-py310-py"
  },
  "language_info": {
   "codemirror_mode": {
    "name": "ipython",
    "version": 3
   },
   "file_extension": ".py",
   "mimetype": "text/x-python",
   "name": "python",
   "nbconvert_exporter": "python",
   "pygments_lexer": "ipython3",
   "version": "3.11.5"
  }
 },
 "nbformat": 4,
 "nbformat_minor": 4
}
