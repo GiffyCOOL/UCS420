{
 "cells": [
  {
   "cell_type": "code",
   "execution_count": 2,
   "id": "682d5110-e1c2-4231-9cba-c9c1b8ac686a",
   "metadata": {},
   "outputs": [
    {
     "name": "stdout",
     "output_type": "stream",
     "text": [
      "Krishnarsh \n",
      "Krishnarsh \n",
      "Krishnarsh\n"
     ]
    }
   ],
   "source": [
    "#WAP to print your name three times\n",
    "print(\"Krishnarsh \\nKrishnarsh \\nKrishnarsh\")"
   ]
  }
 ],
 "metadata": {
  "kernelspec": {
   "display_name": "anaconda-2024.02-py310",
   "language": "python",
   "name": "conda-env-anaconda-2024.02-py310-py"
  },
  "language_info": {
   "codemirror_mode": {
    "name": "ipython",
    "version": 3
   },
   "file_extension": ".py",
   "mimetype": "text/x-python",
   "name": "python",
   "nbconvert_exporter": "python",
   "pygments_lexer": "ipython3",
   "version": "3.10.14"
  }
 },
 "nbformat": 4,
 "nbformat_minor": 5
}
