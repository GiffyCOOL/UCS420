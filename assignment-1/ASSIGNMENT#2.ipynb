{
 "cells": [
  {
   "cell_type": "code",
   "execution_count": 6,
   "id": "9eea3c98-3e95-4993-947b-1b83c9275f5f",
   "metadata": {},
   "outputs": [
    {
     "name": "stdout",
     "output_type": "stream",
     "text": [
      "55  +  45  =  100\n"
     ]
    }
   ],
   "source": [
    "a=55\n",
    "b=45\n",
    "c=a+b\n",
    "print(a,\" + \",b,\" = \",c)"
   ]
  },
  {
   "cell_type": "code",
   "execution_count": 8,
   "id": "123fb10e-5312-4386-b79f-34215a8cfd75",
   "metadata": {},
   "outputs": [
    {
     "name": "stdout",
     "output_type": "stream",
     "text": [
      "Krishnarsh is the BEST\n"
     ]
    }
   ],
   "source": [
    "a=\"Krishnarsh\"\n",
    "b=\" is the \"\n",
    "c=\"BEST\"\n",
    "print(a+b+c)"
   ]
  }
 ],
 "metadata": {
  "kernelspec": {
   "display_name": "anaconda-panel-2023.05-py310",
   "language": "python",
   "name": "conda-env-anaconda-panel-2023.05-py310-py"
  },
  "language_info": {
   "codemirror_mode": {
    "name": "ipython",
    "version": 3
   },
   "file_extension": ".py",
   "mimetype": "text/x-python",
   "name": "python",
   "nbconvert_exporter": "python",
   "pygments_lexer": "ipython3",
   "version": "3.11.5"
  }
 },
 "nbformat": 4,
 "nbformat_minor": 5
}
