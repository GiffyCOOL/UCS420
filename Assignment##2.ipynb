{
 "cells": [
  {
   "cell_type": "markdown",
   "id": "cb198df7-e841-430a-8742-86071a53a5fb",
   "metadata": {},
   "source": [
    "Q1.Create a List L that is defined as= [10, 20, 30, 40, 50, 60, 70, 80].\n",
    "WAP to add 200 and 300 to L.\n",
    "WAP to remove 10 and 30 from L.\n",
    "WAP to sort L in ascending order.\n",
    "WAP to sort L in descending order."
   ]
  },
  {
   "cell_type": "code",
   "execution_count": 5,
   "id": "78c34b4b-cf2b-449c-8b25-b663b86a78a2",
   "metadata": {},
   "outputs": [
    {
     "name": "stdout",
     "output_type": "stream",
     "text": [
      "original list [10, 20, 30, 40, 50, 60, 70, 80]\n",
      "\n",
      "added List [10, 20, 30, 40, 50, 60, 70, 80, 200, 300]\n",
      "\n",
      "new List: [20, 40, 50, 60, 70, 80, 200, 300]\n",
      "\n",
      "List in ascending order [20, 40, 50, 60, 70, 80, 200, 300]\n",
      "\n",
      "List in descending order: [300, 200, 80, 70, 60, 50, 40, 20]\n"
     ]
    }
   ],
   "source": [
    "#Creating List\n",
    "L= [10, 20, 30, 40, 50, 60, 70, 80]\n",
    "print(\"original list\",L)\n",
    "\n",
    "#adding 200 and 300\n",
    "L.append(200)\n",
    "L.append(300)\n",
    "print(\"\\nadded List\",L)\n",
    "\n",
    "#Removing 10 and 30\n",
    "L.remove(10)\n",
    "L.remove(30)\n",
    "print(\"\\nnew List:\",L)\n",
    "\n",
    "#Sort in Ascending order\n",
    "L.sort()\n",
    "print(\"\\nList in ascending order\",L)\n",
    "\n",
    "#Sort in Descending order\n",
    "L.sort(reverse=True)\n",
    "print(\"\\nList in descending order:\",L)"
   ]
  },
  {
   "cell_type": "markdown",
   "id": "db52fa9c-a1e9-4899-9e53-6a14775844be",
   "metadata": {},
   "source": [
    "Q2.Create a tuple of marks scored as scores = (45, 89.5, 76, 45.4, 89, 92, 58, 45) and perform the following operations using tuple functions:\n",
    "Identify the highest score and its index in the tuple.\n",
    "Find the lowest score and count how many times it appears.\n",
    "Reverse the tuple and return it as a list.\n",
    "Check if a specific score ‘76’ (input by the user) is present in the tuple and\n",
    "print its first occurrence index, or a message saying it’s not present."
   ]
  },
  {
   "cell_type": "code",
   "execution_count": 129,
   "id": "6c54ccda-ab13-4ccb-a856-31c872800689",
   "metadata": {},
   "outputs": [
    {
     "name": "stdout",
     "output_type": "stream",
     "text": [
      "Highest score is: 92 and index is: 5\n",
      "\n",
      "Lowest score is: 45 it has appeared 2 times\n",
      "\n",
      "reversed list: [45, 58, 92, 89, 45.4, 76, 89.5, 45]\n"
     ]
    },
    {
     "name": "stdin",
     "output_type": "stream",
     "text": [
      "\n",
      "wenter a number: 4556\n"
     ]
    },
    {
     "name": "stdout",
     "output_type": "stream",
     "text": [
      "Number is NOT present!\n"
     ]
    }
   ],
   "source": [
    "#creating Tuple\n",
    "scores = (45, 89.5, 76, 45.4, 89, 92, 58, 45) \n",
    "\n",
    "#Highest Score and its value\n",
    "print(\"Highest score is:\",max(scores),\"and index is:\",scores.index(max(scores)))\n",
    "\n",
    "#Lowest score and number of times it appears\n",
    "print(\"\\nLowest score is:\",min(scores),\"it has appeared\",scores.count(min(scores)),\"times\")\n",
    "\n",
    "#Reversing the tuple and returning it as a list\n",
    "print(\"\\nreversed list:\",list(scores[::-1]))\n",
    "\n",
    "#Checking if the input by the user is present in the tuple and print its first occurrence index, or an error message\n",
    "flag=0\n",
    "x=int(input(\"\\nwenter a number:\"))\n",
    "for i in range(0,len(scores)):\n",
    "    if scores[i]==x:\n",
    "        print(\"yes the number is present! at index\", i)\n",
    "        flag=1\n",
    "        break\n",
    "if flag==0:\n",
    "    print(\"Number is NOT present!\")"
   ]
  },
  {
   "cell_type": "code",
   "execution_count": null,
   "id": "b09f317f-b9ee-4ed2-8015-66ba3295a3e9",
   "metadata": {},
   "outputs": [],
   "source": [
    "Q3.WAP to create a list of 100 random numbers between 100 and 900. Count and print\n",
    "the:\n",
    "->All odd numbers\n",
    "->All even numbers\n",
    "->All prime numbers"
   ]
  },
  {
   "cell_type": "code",
   "execution_count": 148,
   "id": "7a119bcc-9eb5-4c5d-82b1-2bc8a9f4588c",
   "metadata": {},
   "outputs": [
    {
     "name": "stdout",
     "output_type": "stream",
     "text": [
      "there are total 52 even numbers in the list are: [790, 248, 706, 150, 886, 268, 148, 432, 634, 660, 286, 676, 294, 628, 320, 568, 660, 724, 544, 136, 758, 130, 710, 482, 892, 204, 798, 442, 740, 748, 518, 834, 776, 602, 700, 558, 216, 338, 780, 430, 192, 842, 754, 624, 544, 878, 410, 552, 620, 232, 350, 862]\n",
      "\n",
      "there are total 48 odd numbers in the list are: [327, 739, 109, 315, 387, 499, 551, 879, 395, 849, 641, 219, 139, 741, 535, 523, 267, 853, 893, 105, 297, 577, 735, 751, 427, 839, 535, 521, 465, 847, 287, 849, 387, 535, 253, 311, 213, 563, 315, 643, 883, 789, 623, 395, 805, 351, 559, 569]\n",
      "\n",
      "there are total 16 prime numbers in the list are: [739, 109, 499, 641, 139, 523, 853, 577, 751, 839, 521, 311, 563, 643, 883, 569]\n"
     ]
    }
   ],
   "source": [
    "import random\n",
    "L, O, E, P = [], [], [], []\n",
    "even_count=odd_count=prime_count=0\n",
    "for i in range(0,100):\n",
    "    L.append(random.randint(100, 900))\n",
    "for i in range(0,100):\n",
    "    if L[i]%2==0:\n",
    "        E.append(L[i])\n",
    "        even_count+=1\n",
    "    else:\n",
    "        O.append(L[i])\n",
    "        odd_count+=1\n",
    "for n in L:\n",
    "    if n > 1:\n",
    "        for i in range(2, n):\n",
    "            if n % i == 0:\n",
    "                break\n",
    "        else:\n",
    "            P.append(n)\n",
    "            prime_count+=1\n",
    "print(\"there are total\",even_count,\"even numbers in the list are:\",E)\n",
    "print(\"\\nthere are total\",odd_count,\"odd numbers in the list are:\",O)\n",
    "print(\"\\nthere are total\",prime_count,\"prime numbers in the list are:\",P)     "
   ]
  },
  {
   "cell_type": "markdown",
   "id": "97ba48e6-87f6-4039-a738-b436930ffaa4",
   "metadata": {},
   "source": [
    "Q4. Consider the following two sets, A and B, representing scores of two teams in multiple matches. A = {34, 56, 78, 90} and B = {78, 45, 90, 23} WAP to perform the following operations using set functions:\n",
    "->Find the unique scores achieved by both teams (union of sets).\n",
    "->Identify the scores that are common to both teams (intersection of sets).\n",
    "->Find the scores that are exclusive to each team (symmetric diﬀerence).\n",
    "->Check if the scores of team A are a subset of team B, and if team B's scores are a superset of team A.\n",
    "->Remove a specific score 𝑋 (input by the user) from set A if it exists. If not, print a message saying it is not present."
   ]
  },
  {
   "cell_type": "code",
   "execution_count": 188,
   "id": "bb18a57e-2c29-4898-8dfe-fdcfd9b7d7b6",
   "metadata": {},
   "outputs": [
    {
     "name": "stdout",
     "output_type": "stream",
     "text": [
      "Unique scores achieved by both the teams are: {34, 45, 78, 23, 56, 90}\n",
      "\n",
      "Scores that are common to both the teams are: {90, 78}\n",
      "\n",
      "Scores that are exclusive to each teams are: {56, 34, 45, 23}\n",
      "\n",
      "A ⊆ B (A's scores a subset of B's scores?):\n",
      "FALSE\n"
     ]
    },
    {
     "name": "stdin",
     "output_type": "stream",
     "text": [
      "\n",
      "Enter a score to remove from A:  2\n"
     ]
    },
    {
     "name": "stdout",
     "output_type": "stream",
     "text": [
      "Score 2 is not present in A.\n"
     ]
    }
   ],
   "source": [
    "A = {34, 56, 78, 90}\n",
    "B = {78, 45, 90, 23}\n",
    "print(\"Unique scores achieved by both the teams are:\",A|B)\n",
    "\n",
    "print(\"\\nScores that are common to both the teams are:\",A.intersection(B))\n",
    "\n",
    "print(\"\\nScores that are exclusive to each teams are:\",(A-B).union(B-A))\n",
    "\n",
    "print(\"\\nA ⊆ B (A's scores a subset of B's scores?):\")\n",
    "if (A|B==B):\n",
    " print(\"TRUE\" ) \n",
    "else:\n",
    "    print(\"FALSE\")\n",
    "    \n",
    "x = int(input(\"\\nEnter a score to remove from A: \"))\n",
    "if x in A:\n",
    "    A.remove(x)\n",
    "    print(f\"Score {x} removed from A. Updated A:\", A)\n",
    "else:\n",
    "    print(f\"Score {x} is not present in A.\")"
   ]
  },
  {
   "cell_type": "markdown",
   "id": "01039d15-e0cd-4afd-8bdf-e685c50e009d",
   "metadata": {},
   "source": [
    "Q5.Write a program to rename a key city to a location on in the following dictionary."
   ]
  },
  {
   "cell_type": "code",
   "execution_count": 155,
   "id": "67a96433-08a0-4764-8d8f-360ad5b239ff",
   "metadata": {},
   "outputs": [
    {
     "name": "stdout",
     "output_type": "stream",
     "text": [
      "{'name': 'Kelly', 'age': 25, 'salary': 8000, 'location': 'New york'}\n"
     ]
    }
   ],
   "source": [
    "sample_dict = {\n",
    "    'name': 'Kelly',\n",
    "    'age': 25,\n",
    "    'salary': 8000,\n",
    "    'city': 'New york'}\n",
    "sample_dict['location']=sample_dict.pop('city')\n",
    "print(sample_dict)"
   ]
  }
 ],
 "metadata": {
  "kernelspec": {
   "display_name": "anaconda-2024.02-py310",
   "language": "python",
   "name": "conda-env-anaconda-2024.02-py310-py"
  },
  "language_info": {
   "codemirror_mode": {
    "name": "ipython",
    "version": 3
   },
   "file_extension": ".py",
   "mimetype": "text/x-python",
   "name": "python",
   "nbconvert_exporter": "python",
   "pygments_lexer": "ipython3",
   "version": "3.10.14"
  }
 },
 "nbformat": 4,
 "nbformat_minor": 5
}
